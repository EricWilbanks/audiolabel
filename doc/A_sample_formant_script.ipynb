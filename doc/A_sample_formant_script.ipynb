{
 "metadata": {
  "name": ""
 },
 "nbformat": 3,
 "nbformat_minor": 0,
 "worksheets": [
  {
   "cells": [
    {
     "cell_type": "heading",
     "level": 1,
     "metadata": {},
     "source": [
      "A sample audiolabel script for formant analysis"
     ]
    },
    {
     "cell_type": "markdown",
     "metadata": {},
     "source": [
      "Here are annotated snippets of a script that reads Praat TextGrids, searches for vowel tokens, and runs a formant analyzer. Formant measurements are extracted from the results and written to a text file, along with additional metadata retrieved from the TextGrids.\n",
      "\n",
      "Let's take a look at this in pseudocode first:\n",
      "\n",
      "    read in a textgrid\n",
      "    run the ifcformant system command\n",
      "    read the ifcformant output\n",
      "\n",
      "    search the textgrid for vowel tokens (V):\n",
      "        if V meets size condition:\n",
      "            get word and context of V from the textgrid\n",
      "            get regularly-sampled formant measurements for V:\n",
      "                output measurement with word and context\n",
      "            \n",
      "Our input TextGrids will have three interval tiers each, with tier names 'phone', 'word', and 'context'."
     ]
    },
    {
     "cell_type": "heading",
     "level": 2,
     "metadata": {},
     "source": [
      "Getting started"
     ]
    },
    {
     "cell_type": "markdown",
     "metadata": {},
     "source": [
      "First, import the necessary libraries:"
     ]
    },
    {
     "cell_type": "code",
     "collapsed": false,
     "input": [
      "import audiolabel     # library for reading phonetic label files\n",
      "import os, subprocess     # access to system commands\n",
      "import re             # regular expressions\n",
      "import numpy as np    # numeric processing routines\n",
      "reload(audiolabel)"
     ],
     "language": "python",
     "metadata": {},
     "outputs": [
      {
       "metadata": {},
       "output_type": "pyout",
       "prompt_number": 96,
       "text": [
        "<module 'audiolabel' from 'audiolabel.py'>"
       ]
      }
     ],
     "prompt_number": 96
    },
    {
     "cell_type": "heading",
     "level": 2,
     "metadata": {},
     "source": [
      "Read in a TextGrid"
     ]
    },
    {
     "cell_type": "markdown",
     "metadata": {},
     "source": [
      "Our script assumes that TextGrids reside in the same directory as the <code>.wav</code> files they annotate, and that they share the same name, except for the extension."
     ]
    },
    {
     "cell_type": "code",
     "collapsed": false,
     "input": [
      "tg = 'doc/this_is_a_label_file.TextGrid'   # name of Praat TextGrid\n",
      "fname = os.path.splitext(tg)[0]  # get filename without extension\n",
      "fname"
     ],
     "language": "python",
     "metadata": {},
     "outputs": [
      {
       "metadata": {},
       "output_type": "pyout",
       "prompt_number": 97,
       "text": [
        "'doc/this_is_a_label_file'"
       ]
      }
     ],
     "prompt_number": 97
    },
    {
     "cell_type": "markdown",
     "metadata": {},
     "source": [
      "Now we create a <code>LabelManager</code> by reading in the TextGrid with the hint that the file type is <code>'praat'</code>. The <code>LabelManager</code> can distinguish <code>'short'</code> and <code>'long'</code> Praat formats. If you want to be explicit, you can use <code>'praat_short'</code> or <code>'praat_long'</code> as the <code>fromType</code>."
     ]
    },
    {
     "cell_type": "code",
     "collapsed": false,
     "input": [
      "pm = audiolabel.LabelManager(fromFile=tg, fromType='praat')\n",
      "lab = pm.tier('word').labelAt(0.5736)\n",
      "lab.center()"
     ],
     "language": "python",
     "metadata": {},
     "outputs": [
      {
       "metadata": {},
       "output_type": "pyout",
       "prompt_number": 103,
       "text": [
        "0.621615744181556"
       ]
      }
     ],
     "prompt_number": 103
    },
    {
     "cell_type": "heading",
     "level": 2,
     "metadata": {},
     "source": [
      "Run the ifcformant system command"
     ]
    },
    {
     "cell_type": "markdown",
     "metadata": {},
     "source": [
      "<code>ifcformant</code> is our formant analysis program. It is a separate executable available on the system.\n",
      "\n",
      "We will use Python's <code>subprocess</code> module to execute the command and check the return code. To set this up we'll make a list of arguments to pass to <code>subprocess</code>, with the <code>ifcformant</code> command itself included as the first item in the list."
     ]
    },
    {
     "cell_type": "code",
     "collapsed": false,
     "input": [
      "tempifc = 'doc/__temp.ifc' # output destination of ifcformant command\n",
      "speaker = 'male'           # gender of speaker\n",
      "ifc_args = ['ifcformant',  # list of arguments\n",
      "           '--speaker=' + speaker,\n",
      "           '-e', 'gain -n -3 sinc -t 10 60 contrast',\n",
      "           '--print-header',\n",
      "           '--output=' + tempifc,\n",
      "           fname + '.wav']\n",
      "ifc_args"
     ],
     "language": "python",
     "metadata": {},
     "outputs": [
      {
       "metadata": {},
       "output_type": "pyout",
       "prompt_number": 12,
       "text": [
        "['ifcformant',\n",
        " '--speaker=male',\n",
        " '-e',\n",
        " 'gain -n -3 sinc -t 10 60 contrast',\n",
        " '--print-header',\n",
        " '--output=doc/__temp.ifc',\n",
        " 'doc/this_is_a_label_file.wav']"
       ]
      }
     ],
     "prompt_number": 12
    },
    {
     "cell_type": "markdown",
     "metadata": {},
     "source": [
      "We use <code>Popen</code> to execute <code>ifcformant</code> and return a handle to the running process. We need to <code>wait()</code> for the process to finish before continuing on with our script. <code>ifcformant</code> can take a while to finish, so this is important!\n",
      "\n",
      "Any errors reported by <code>ifcformant</code> are connected to <code>subprocess.PIPE</code> so that we can report the errors if <code>ifcformant</code> fails."
     ]
    },
    {
     "cell_type": "code",
     "collapsed": false,
     "input": [
      "proc = subprocess.Popen(ifc_args, stderr=subprocess.PIPE)\n",
      "proc.wait()"
     ],
     "language": "python",
     "metadata": {},
     "outputs": [
      {
       "metadata": {},
       "output_type": "pyout",
       "prompt_number": 106,
       "text": [
        "0"
       ]
      }
     ],
     "prompt_number": 106
    },
    {
     "cell_type": "markdown",
     "metadata": {},
     "source": [
      "Finally, we check the process's return code to see whether <code>ifcformant</code> succeeded, in which case the code is <code>0</code>. If <code>ifcformant</code> failed, we report the error and raise an exception."
     ]
    },
    {
     "cell_type": "code",
     "collapsed": false,
     "input": [
      "if proc.returncode != 0:\n",
      "    for line in proc.stderr:\n",
      "        sys.stderr.write(line + '\\n')\n",
      "    raise Exception(\"ifcformant exited with status: {0}\".format(proc.returncode))"
     ],
     "language": "python",
     "metadata": {},
     "outputs": [],
     "prompt_number": 6
    },
    {
     "cell_type": "heading",
     "level": 2,
     "metadata": {},
     "source": [
      "Read the <code>ifcformant</code> output"
     ]
    },
    {
     "cell_type": "markdown",
     "metadata": {},
     "source": [
      "<code>ifcformant</code> produces a table of numbers. Since we included the <code>--print-header</code> argument the output contains a header row identifying the fields. Here are the first 10 lines of output:"
     ]
    },
    {
     "cell_type": "code",
     "collapsed": false,
     "input": [
      "!head doc/__temp.ifc"
     ],
     "language": "python",
     "metadata": {},
     "outputs": [
      {
       "output_type": "stream",
       "stream": "stdout",
       "text": [
        "sec\trms\tf1\tf2\tf3\tf4\tf0\n",
        "0.0050\t0.0\t0.0\t0.0\t0.0\t0.0\t0.0\n",
        "0.0150\t0.0\t0.0\t0.0\t0.0\t0.0\t0.0\n",
        "0.0250\t0.0\t0.0\t0.0\t0.0\t0.0\t0.0\n",
        "0.0350\t75.0\t354.4\t1078.2\t2368.6\t3173.0\t0.0\n",
        "0.0450\t75.0\t386.1\t1427.1\t2427.6\t3291.3\t0.0\n",
        "0.0550\t82.2\t473.6\t1536.8\t2525.5\t3369.1\t240.0\n",
        "0.0650\t82.2\t450.1\t1481.2\t2584.4\t3366.3\t106.2\n",
        "0.0750\t240.8\t526.8\t1505.8\t2572.2\t3333.2\t193.5\n",
        "0.0850\t766.0\t500.5\t1580.9\t2337.8\t3358.4\t150.0\n"
       ]
      }
     ],
     "prompt_number": 107
    },
    {
     "cell_type": "markdown",
     "metadata": {},
     "source": [
      "If you think about it, this output is a kind of label file. We have six columns of output for each timepoint, and we can think of these as six label tiers. <code>LabelManager</code> provides a <code>readTable()</code> method for reading in tabular data, and we can invoke it automatically by specifying <code>fromType='table'</code> when creating the <code>LabelManager</code>.\n",
      "\n",
      "The <code>t1Col='sec'</code> argument tells <code>readTable()</code> that each <code>Label</code>'s <code>t1</code> (see below) is identified by the column labelled <code>'sec'</code>."
     ]
    },
    {
     "cell_type": "code",
     "collapsed": false,
     "input": [
      "ifc = audiolabel.LabelManager(fromFile=tempifc, fromType='table', t1Col='sec')\n",
      "ifc.tier('f1').labelAt(1.620)"
     ],
     "language": "python",
     "metadata": {},
     "outputs": [
      {
       "html": [
        "<b>Label</b>( <b>t1</b>=1.6250, <b>text</b>='445.7' )"
       ],
       "metadata": {},
       "output_type": "pyout",
       "prompt_number": 114,
       "text": [
        "Label( t1=1.6250, text='445.7' )"
       ]
      }
     ],
     "prompt_number": 114
    },
    {
     "cell_type": "heading",
     "level": 2,
     "metadata": {},
     "source": [
      "Search the textgrid for vowel tokens"
     ]
    },
    {
     "cell_type": "markdown",
     "metadata": {},
     "source": [
      "We want to extract formant measurements during sections of the audio file that are identified as vowels. We set up a regular expression that matches vowel tokens in the TextGrid's <code>'phone'</code> tier. This regex contains two named capture groups, <code>'vowel'</code> and <code>'stress'</code>, that will be returned when a matching label is found."
     ]
    },
    {
     "cell_type": "code",
     "collapsed": false,
     "input": [
      "vre = re.compile(\n",
      "         \"(?P<vowel>AA|AE|AH|AO|AW|AX|AXR|AY|EH|ER|EY|IH|IX|IY|OW|OY|UH|UW|UX)(?P<stress>\\d)?\"\n",
      "      )\n",
      "vre"
     ],
     "language": "python",
     "metadata": {},
     "outputs": [
      {
       "metadata": {},
       "output_type": "pyout",
       "prompt_number": 61,
       "text": [
        "re.compile(r'(?P<vowel>AA|AE|AH|AO|AW|AX|AXR|AY|EH|ER|EY|IH|IX|IY|OW|OY|UH|UW|UX)(?P<stress>\\d)?')"
       ]
      }
     ],
     "prompt_number": 61
    },
    {
     "cell_type": "markdown",
     "metadata": {},
     "source": [
      "A <code>LabelManager tier</code> is a Sequence, which allows for easy access to labels in a loop:"
     ]
    },
    {
     "cell_type": "code",
     "collapsed": false,
     "input": [
      "for lab in pm.tier('context'):\n",
      "    print lab.text"
     ],
     "language": "python",
     "metadata": {},
     "outputs": [
      {
       "output_type": "stream",
       "stream": "stdout",
       "text": [
        "\n",
        "1\n",
        "2\n"
       ]
      }
     ],
     "prompt_number": 116
    },
    {
     "cell_type": "markdown",
     "metadata": {},
     "source": [
      "A <code>LabelManager tier</code> has a <code>search()</code> method that applies a regex and returns every <code>Label</code> that matches."
     ]
    },
    {
     "cell_type": "code",
     "collapsed": false,
     "input": [
      "tokens = pm.tier('phone').search(vre)\n",
      "tokens"
     ],
     "language": "python",
     "metadata": {},
     "outputs": [
      {
       "metadata": {},
       "output_type": "pyout",
       "prompt_number": 117,
       "text": [
        "[Label( t1=0.1850, t2=0.3058, text='IH2' ),\n",
        " Label( t1=0.4208, t2=0.5183, text='IH0' ),\n",
        " Label( t1=0.5736, t2=0.6696, text='AH1' )]"
       ]
      }
     ],
     "prompt_number": 117
    },
    {
     "cell_type": "markdown",
     "metadata": {},
     "source": [
      "In our script we also want to return the named captures from our match. We change the return values of <code>search()</code> with the <code>returnMatch</code> parameter."
     ]
    },
    {
     "cell_type": "code",
     "collapsed": false,
     "input": [
      "tokens = pm.tier('phone').search(vre, returnMatch=True)\n",
      "tokens"
     ],
     "language": "python",
     "metadata": {},
     "outputs": [
      {
       "metadata": {},
       "output_type": "pyout",
       "prompt_number": 64,
       "text": [
        "[(Label( t1=0.1850, t2=0.3058, text='IH2' ), <_sre.SRE_Match at 0x5c00828>),\n",
        " (Label( t1=0.4208, t2=0.5183, text='IH0' ), <_sre.SRE_Match at 0x5c00d78>),\n",
        " (Label( t1=0.5736, t2=0.6696, text='AH1' ), <_sre.SRE_Match at 0x5f96140>)]"
       ]
      }
     ],
     "prompt_number": 64
    },
    {
     "cell_type": "markdown",
     "metadata": {},
     "source": [
      "It is simple to set up a loop to access each matching <code>Label</code> and its associated match data."
     ]
    },
    {
     "cell_type": "code",
     "collapsed": false,
     "input": [
      "for v, m in pm.tier('phone').search(vre, returnMatch=True):\n",
      "    print v.t1(), '-', v.t2()\n",
      "    print v.text\n",
      "    print m.group('vowel')\n",
      "    print m.group('stress')\n",
      "    print"
     ],
     "language": "python",
     "metadata": {},
     "outputs": [
      {
       "output_type": "stream",
       "stream": "stdout",
       "text": [
        "0.185027889005 - 0.305817195604\n",
        "IH2\n",
        "IH\n",
        "2\n",
        "\n",
        "0.4207853308 - 0.51828995179\n",
        "IH0\n",
        "IH\n",
        "0\n",
        "\n",
        "0.573591080112 - 0.669640408251\n",
        "AH1\n",
        "AH\n",
        "1\n",
        "\n"
       ]
      }
     ],
     "prompt_number": 118
    },
    {
     "cell_type": "markdown",
     "metadata": {},
     "source": [
      "A conditional expression restricts the results to other criteria:"
     ]
    },
    {
     "cell_type": "code",
     "collapsed": false,
     "input": [
      "for v, m in pm.tier('phone').search(vre, returnMatch=True):\n",
      "    if v.duration() > 0.1:\n",
      "        print v.t1(), '-', v.t2()\n",
      "        print v.text\n",
      "        print m.group('vowel')\n",
      "        print m.group('stress')\n",
      "        print "
     ],
     "language": "python",
     "metadata": {},
     "outputs": [
      {
       "output_type": "stream",
       "stream": "stdout",
       "text": [
        "0.185027889005 - 0.305817195604\n",
        "IH2\n",
        "IH\n",
        "2\n",
        "\n"
       ]
      }
     ],
     "prompt_number": 119
    },
    {
     "cell_type": "markdown",
     "metadata": {},
     "source": [
      "The <code>'word'</code> and <code>'context'</code> tiers can be queried to return the <code>Label</code> that occurs at the time of the vowel token with the <code>labelAt</code> method."
     ]
    },
    {
     "cell_type": "code",
     "collapsed": false,
     "input": [
      "for v, m in pm.tier('phone').search(vre, returnMatch=True):\n",
      "    if v.duration() > 0.1:\n",
      "        print v.text\n",
      "        word = pm.tier('word').labelAt(v.center())\n",
      "        print word.text\n",
      "        context = pm.tier('context').labelAt(v.center())\n",
      "        print context.text\n",
      "        "
     ],
     "language": "python",
     "metadata": {},
     "outputs": [
      {
       "output_type": "stream",
       "stream": "stdout",
       "text": [
        "IH2\n",
        "This\n",
        "1\n"
       ]
      }
     ],
     "prompt_number": 67
    },
    {
     "cell_type": "heading",
     "level": 2,
     "metadata": {},
     "source": [
      "Get regularly-sampled formant measurements"
     ]
    },
    {
     "cell_type": "markdown",
     "metadata": {},
     "source": [
      "For this script we want formant measurments at the start and end of each vowel token, plus five equally-spaced timepoints in between. The <code>linspace</code> function from <code>numpy</code> simplifies the calculation of these timepoints:"
     ]
    },
    {
     "cell_type": "code",
     "collapsed": false,
     "input": [
      "for v, m in pm.tier('phone').search(vre, returnMatch=True):\n",
      "    if v.duration() > 0.1:\n",
      "        points = np.linspace(v.t1(), v.t2(), num=7)\n",
      "        print points"
     ],
     "language": "python",
     "metadata": {},
     "outputs": [
      {
       "output_type": "stream",
       "stream": "stdout",
       "text": [
        "[ 0.18502789  0.20515944  0.22529099  0.24542254  0.26555409  0.28568564\n",
        "  0.3058172 ]\n"
       ]
      }
     ],
     "prompt_number": 70
    },
    {
     "cell_type": "markdown",
     "metadata": {},
     "source": [
      "The <code>LabelManager</code> has a <code>labelsAt</code> method that calls the <code>labelAt</code> method on every tier managed by the <code>LabelManager</code> and returns a tuple of the results. If the tiers are named, the elements of the tuple can be accessed with the corresponding name."
     ]
    },
    {
     "cell_type": "code",
     "collapsed": false,
     "input": [
      "for v, m in pm.tier('phone').search(vre, returnMatch=True):\n",
      "    if v.duration() > 0.1:\n",
      "        for t in np.linspace(v.t1(), v.t2(), num=7):\n",
      "            meas = ifc.labelsAt(t)\n",
      "            print meas.f1.text"
     ],
     "language": "python",
     "metadata": {},
     "outputs": [
      {
       "output_type": "stream",
       "stream": "stdout",
       "text": [
        "237.8\n",
        "425.9\n",
        "416.8\n",
        "476.5\n",
        "503.4\n",
        "510.5\n",
        "474.9\n"
       ]
      }
     ],
     "prompt_number": 88
    },
    {
     "cell_type": "markdown",
     "metadata": {},
     "source": [
      "This is a format string that is used to output results. The field names are in curly brackets, and the portion after the colon specifies formatting details for numeric formats. Output is tab-separated."
     ]
    },
    {
     "cell_type": "heading",
     "level": 2,
     "metadata": {},
     "source": [
      "Get word and context from the TextGrid"
     ]
    },
    {
     "cell_type": "markdown",
     "metadata": {},
     "source": []
    },
    {
     "cell_type": "code",
     "collapsed": false,
     "input": [
      "fmt = '\\t'.join([\"{t1:0.4f}\", \"{t2:0.4f}\", \"{lintime:0.4f}\", \"{ifctime:0.4f}\",\n",
      "                \"{idx:d}\", \"{vowel}\", \"{stress}\", \"{rms}\", \"{f1}\", \"{f2}\",\n",
      "                \"{f3}\", \"{f4}\", \"{f0}\", \"{word}\", \"{context}\\n\"\n",
      "               ])\n",
      "fmt"
     ],
     "language": "python",
     "metadata": {},
     "outputs": [
      {
       "metadata": {},
       "output_type": "pyout",
       "prompt_number": 8,
       "text": [
        "'{t1:0.4f}\\t{t2:0.4f}\\t{lintime:0.4f}\\t{ifctime:0.4f}\\t{idx:d}\\t{vowel}\\t{stress}\\t{rms}\\t{f1}\\t{f2}\\t{f3}\\t{f4}\\t{f0}\\t{word}\\t{context}\\n'"
       ]
      }
     ],
     "prompt_number": 8
    },
    {
     "cell_type": "markdown",
     "metadata": {},
     "source": [
      "And this creates our header line. As with the <code>fmt</code> assignment, we join the fields with a tab. Tabs could be inserted directly in to the string instead of using <code>join()</code> and <code>split()</code>, but the extra syntax makes the field names easier to pick out for a human reader."
     ]
    },
    {
     "cell_type": "code",
     "collapsed": false,
     "input": [
      "head = '\\t'.join(('t1 t2 lintime ifctime idx vowel stress \\\n",
      "                   rms f1 f2 f3 f4 f0 word context'\n",
      "                 ).split()) + '\\n'\n",
      "head\n"
     ],
     "language": "python",
     "metadata": {},
     "outputs": [
      {
       "metadata": {},
       "output_type": "pyout",
       "prompt_number": 93,
       "text": [
        "'t1\\tt2\\tlintime\\tifctime\\tidx\\tvowel\\tstress\\trms\\tf1\\tf2\\tf3\\tf4\\tf0\\tword\\tcontext\\n'"
       ]
      }
     ],
     "prompt_number": 93
    },
    {
     "cell_type": "code",
     "collapsed": false,
     "input": [
      "head2 = 't1\\tt2\\tlintime\\tifctime\\tidx\\tvowel\\tstress\\trms\\tf1\\tf2\\tf3\\tf4\\tf0\\tword\\tcontext\\n'\n",
      "head2"
     ],
     "language": "python",
     "metadata": {},
     "outputs": [
      {
       "metadata": {},
       "output_type": "pyout",
       "prompt_number": 94,
       "text": [
        "'t1\\tt2\\tlintime\\tifctime\\tidx\\tvowel\\tstress\\trms\\tf1\\tf2\\tf3\\tf4\\tf0\\tword\\tcontext\\n'"
       ]
      }
     ],
     "prompt_number": 94
    }
   ],
   "metadata": {}
  }
 ]
}