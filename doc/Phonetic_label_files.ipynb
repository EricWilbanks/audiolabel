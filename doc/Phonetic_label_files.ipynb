{
 "metadata": {
  "name": ""
 },
 "nbformat": 3,
 "nbformat_minor": 0,
 "worksheets": [
  {
   "cells": [
    {
     "cell_type": "heading",
     "level": 1,
     "metadata": {},
     "source": [
      "Phonetic label files"
     ]
    },
    {
     "cell_type": "markdown",
     "metadata": {},
     "source": [
      "Phonetic label files come in a variety of flavors, and all do one thing: relate an annotation to a timepoint or time interval in an audio file."
     ]
    },
    {
     "cell_type": "heading",
     "level": 2,
     "metadata": {},
     "source": [
      "Praat"
     ]
    },
    {
     "cell_type": "markdown",
     "metadata": {},
     "source": [
      "Praat textgrids are used by the Praat program and come in two formats, a 'short' format and a more-verbose 'long' format. The long format doesn't contain more information than the short format.\n",
      "\n",
      "Praat textgrids have several features not shared by many other label formats:\n",
      "\n",
      "* Support for multiple levels of annotation. These are called 'tiers'.\n",
      "* Support for labelling a single point in time or an interval.\n",
      "* Support for named tiers.\n",
      "\n",
      "The next example shows all of these features in the Praat 'long' format. There are two interval tiers named 'word' and 'phone', and a point tier named 'stimulus'. Each annotation in the interval tiers has a start and end time, while the annotations in the point tier are associated with a single point in time only."
     ]
    },
    {
     "cell_type": "code",
     "collapsed": false,
     "input": [
      "!cat doc/this_is_a_label_file.long.TextGrid"
     ],
     "language": "python",
     "metadata": {},
     "outputs": [
      {
       "output_type": "stream",
       "stream": "stdout",
       "text": [
        "File type = \"ooTextFile\"\n",
        "Object class = \"TextGrid\"\n",
        "\n",
        "xmin = 0 \n",
        "xmax = 1.6550793650793652 \n",
        "tiers? <exists> \n",
        "size = 3 \n",
        "item []: \n",
        "    item [1]:\n",
        "        class = \"IntervalTier\" \n",
        "        name = \"word\" \n",
        "        xmin = 0 \n",
        "        xmax = 1.6550793650793652 \n",
        "        intervals: size = 6 \n",
        "        intervals [1]:\n",
        "            xmin = 0 \n",
        "            xmax = 0.04531977534891905 \n",
        "            text = \"\" \n",
        "        intervals [2]:\n",
        "            xmin = 0.04531977534891905 \n",
        "            xmax = 0.4207853308004855 \n",
        "            text = \"This\" \n",
        "        intervals [3]:\n",
        "            xmin = 0.4207853308004855 \n",
        "            xmax = 0.5735910801121695 \n",
        "            text = \"is\" \n",
        "        intervals [4]:\n",
        "            xmin = 0.5735910801121695 \n",
        "            xmax = 0.6696404082509424 \n",
        "            text = \"a\" \n",
        "        intervals [5]:\n",
        "            xmin = 0.6696404082509424 \n",
        "            xmax = 1.1178706062318822 \n",
        "            text = \"label\" \n",
        "        intervals [6]:\n",
        "            xmin = 1.1178706062318822 \n",
        "            xmax = 1.6550793650793652 \n",
        "            text = \"file\" \n",
        "    item [2]:\n",
        "        class = \"IntervalTier\" \n",
        "        name = \"phone\" \n",
        "        xmin = 0 \n",
        "        xmax = 1.6550793650793652 \n",
        "        intervals: size = 8 \n",
        "        intervals [1]:\n",
        "            xmin = 0 \n",
        "            xmax = 0.04531977534891905 \n",
        "            text = \"\" \n",
        "        intervals [2]:\n",
        "            xmin = 0.04531977534891905 \n",
        "            xmax = 0.1850278890053159 \n",
        "            text = \"TH\" \n",
        "        intervals [3]:\n",
        "            xmin = 0.1850278890053159 \n",
        "            xmax = 0.3058171956040756 \n",
        "            text = \"IH\" \n",
        "        intervals [4]:\n",
        "            xmin = 0.3058171956040756 \n",
        "            xmax = 0.4207853308004855 \n",
        "            text = \"S\" \n",
        "        intervals [5]:\n",
        "            xmin = 0.4207853308004855 \n",
        "            xmax = 0.5182899517898458 \n",
        "            text = \"IH\" \n",
        "        intervals [6]:\n",
        "            xmin = 0.5182899517898458 \n",
        "            xmax = 0.5735910801121695 \n",
        "            text = \"Z\" \n",
        "        intervals [7]:\n",
        "            xmin = 0.5735910801121695 \n",
        "            xmax = 0.6696404082509424 \n",
        "            text = \"AH\" \n",
        "        intervals [8]:\n",
        "            xmin = 0.6696404082509424 \n",
        "            xmax = 1.6550793650793652 \n",
        "            text = \"\" \n",
        "    item [3]:\n",
        "        class = \"TextTier\" \n",
        "        name = \"stimulus\" \n",
        "        xmin = 0 \n",
        "        xmax = 1.6550793650793652 \n",
        "        points: size = 3 \n",
        "        points [1]:\n",
        "            number = 0.020579796888932116 \n",
        "            mark = \"1\" \n",
        "        points [2]:\n",
        "            number = 0.2243207959711775 \n",
        "            mark = \"2\" \n",
        "        points [3]:\n",
        "            number = 0.8006167648038145 \n",
        "            mark = \"3\" \n"
       ]
      }
     ],
     "prompt_number": 5
    },
    {
     "cell_type": "markdown",
     "metadata": {},
     "source": [
      "And here are the same tiers in Praat's 'short' format. Note that it contains all the same information as the more-verbose format:"
     ]
    },
    {
     "cell_type": "code",
     "collapsed": false,
     "input": [
      "!cat doc/this_is_a_label_file.short.TextGrid"
     ],
     "language": "python",
     "metadata": {},
     "outputs": [
      {
       "output_type": "stream",
       "stream": "stdout",
       "text": [
        "File type = \"ooTextFile\"\n",
        "Object class = \"TextGrid\"\n",
        "\n",
        "0\n",
        "1.6550793650793652\n",
        "<exists>\n",
        "3\n",
        "\"IntervalTier\"\n",
        "\"word\"\n",
        "0\n",
        "1.6550793650793652\n",
        "6\n",
        "0\n",
        "0.04531977534891905\n",
        "\"\"\n",
        "0.04531977534891905\n",
        "0.4207853308004855\n",
        "\"This\"\n",
        "0.4207853308004855\n",
        "0.5735910801121695\n",
        "\"is\"\n",
        "0.5735910801121695\n",
        "0.6696404082509424\n",
        "\"a\"\n",
        "0.6696404082509424\n",
        "1.1178706062318822\n",
        "\"label\"\n",
        "1.1178706062318822\n",
        "1.6550793650793652\n",
        "\"file\"\n",
        "\"IntervalTier\"\n",
        "\"phone\"\n",
        "0\n",
        "1.6550793650793652\n",
        "8\n",
        "0\n",
        "0.04531977534891905\n",
        "\"\"\n",
        "0.04531977534891905\n",
        "0.1850278890053159\n",
        "\"TH\"\n",
        "0.1850278890053159\n",
        "0.3058171956040756\n",
        "\"IH\"\n",
        "0.3058171956040756\n",
        "0.4207853308004855\n",
        "\"S\"\n",
        "0.4207853308004855\n",
        "0.5182899517898458\n",
        "\"IH\"\n",
        "0.5182899517898458\n",
        "0.5735910801121695\n",
        "\"Z\"\n",
        "0.5735910801121695\n",
        "0.6696404082509424\n",
        "\"AH\"\n",
        "0.6696404082509424\n",
        "1.6550793650793652\n",
        "\"\"\n",
        "\"TextTier\"\n",
        "\"stimulus\"\n",
        "0\n",
        "1.6550793650793652\n",
        "3\n",
        "0.020579796888932116\n",
        "\"1\"\n",
        "0.2243207959711775\n",
        "\"2\"\n",
        "0.8006167648038145\n",
        "\"3\"\n"
       ]
      }
     ],
     "prompt_number": 6
    },
    {
     "cell_type": "heading",
     "level": 2,
     "metadata": {},
     "source": [
      "ESPS label files"
     ]
    },
    {
     "cell_type": "markdown",
     "metadata": {},
     "source": [
      "ESPS label files are simpler than Praat TextGrids, and they contain fewer features:\n",
      "\n",
      "* Point-in-time annotations only. A user might understand that an annotation ends at the beginning of the next annotation mark, but this is knowledge that the user has to bring to the label file. There is no explicit way to encode an interval in the file format itself.\n",
      "* Support for multiple annotations per timepoint. Each annotation is separated by the character defined by the 'separator' field in the header (default is ';'). Multiple annotations can be thought of as separate tiers, but the tiers are less flexible than what is allowed in the Praat format.\n",
      "* Support for application data in the form of the 'color' field. Not generally useful unless you are working with ESPS/Xwaves utilities.\n",
      "\n",
      "Here is a sample ESPS label file:"
     ]
    },
    {
     "cell_type": "code",
     "collapsed": false,
     "input": [
      "!cat doc/sample.esps"
     ],
     "language": "python",
     "metadata": {},
     "outputs": [
      {
       "output_type": "stream",
       "stream": "stdout",
       "text": [
        "signal s0201.sd\n",
        "type 0\n",
        "comment created using xlabel Wed May 15 21:02:18 2002\n",
        "comment created using xlabel Wed Jan 10 15:11:26 2001\n",
        "color 122\n",
        "font -misc-*-bold-*-*-*-15-*-*-*-*-*-*-*\n",
        "separator ;\n",
        "nfields 1\n",
        "#\n",
        "   2.609000 122 {B_TRANS}\n",
        "   2.709000 122 IVER\n",
        "    2.753000 122 eh\n",
        "    2.892000 122 s\n",
        "   3.238000 122 IVER\n",
        "    3.247000 122 d\n",
        "    3.327000 122 ae\n",
        "    3.439000 122 s;sat\n",
        "    3.555000 122 ae\n",
        "    3.604000 122 t\n",
        "   3.675000 122 IVER\n",
        "    3.710000 122 ah\n",
        "    3.786000 122 w\n",
        "    3.851000 122 ah\n",
        "    3.881000 122 dx\n",
        "    3.941000 122 eh\n",
        "    4.001000 122 v\n",
        "    4.039000 122 er\n",
        "    4.111000 122 ey\n",
        "    4.246000 122 k\n",
        "    4.326000 122 ao\n",
        "    4.369000 122 l\n",
        "    4.443000 122 ah\n",
        "    4.501000 122 t\n",
        "\n"
       ]
      }
     ],
     "prompt_number": 7
    }
   ],
   "metadata": {}
  }
 ]
}